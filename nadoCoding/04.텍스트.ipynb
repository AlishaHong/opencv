{
 "cells": [
  {
   "cell_type": "code",
   "execution_count": 2,
   "metadata": {},
   "outputs": [],
   "source": [
    "# 텍스트\n",
    "\n",
    "# opencv에서 사용하는 글꼴 종류\n",
    "# 1. cv2.FONT_HERSHEY_SIMPLEX : 보통크기의 산 세리프 글꼴\n",
    "# 2. cv2.FONT_HERSHEY_PLAIN : 작은 크기의 산 세리프 글꼴\n",
    "# 3. cv2.FONT_HERSHEY_SCRIPT_SIMPLEX : 필기체 스타일 글꼴\n",
    "# 4. cv2.FONT_HERSHEY_TRIPLEX : 보통크기의 세리프 글꼴\n",
    "# 5. cv2.FONT_ITALIC : 기울림(이탤릭체)\n",
    "import cv2\n",
    "import numpy as np"
   ]
  },
  {
   "cell_type": "code",
   "execution_count": 7,
   "metadata": {},
   "outputs": [],
   "source": [
    "img = np.zeros((480,640,3), dtype = np.uint8)\n",
    "\n",
    "scale = 1 \n",
    "color = (255,255,255) #흰색\n",
    "thickness = 1 \n",
    "\n",
    "cv2.putText(img, \"Nado Simplex\", (20,50), cv2.FONT_HERSHEY_SIMPLEX, scale, color, thickness)\n",
    "# 그릴 위치, 쓸 텍스트 내용, 시작위치좌표, 글꼴종류, 크기, 색상,두께)\n",
    "\n",
    "cv2.putText(img, \"Nado Simplex\", (20,150), cv2.FONT_HERSHEY_PLAIN, scale, color, thickness)\n",
    "cv2.putText(img, \"Nado Simplex\", (20,250), cv2.FONT_HERSHEY_SCRIPT_SIMPLEX, scale, color, thickness)\n",
    "cv2.putText(img, \"Nado Simplex\", (20,350), cv2.FONT_HERSHEY_TRIPLEX, scale, color, thickness)\n",
    "cv2.putText(img, \"Nado Simplex\", (20,450), cv2.FONT_ITALIC | cv2.FONT_HERSHEY_TRIPLEX, scale, color, thickness)\n",
    "\n",
    "cv2.imshow('img',img)\n",
    "cv2.waitKey(0)\n",
    "cv2.destroyAllWindows()"
   ]
  },
  {
   "cell_type": "code",
   "execution_count": 10,
   "metadata": {},
   "outputs": [],
   "source": [
    "# 한글 우회 방법\n",
    "\n",
    "# PIL(PYTHON IMAGE LIBRATY)\n",
    "from PIL import ImageFont, ImageDraw, Image\n",
    "\n",
    "def myPutText(src, text, pos, font_size, font_color):\n",
    "    img_pil = Image.fromarray(src)\n",
    "    draw = ImageDraw.Draw(img_pil)\n",
    "    font = ImageFont.truetype('fonts/gulim.ttc', font_size)\n",
    "    draw.text(pos, text, font=font, fill=font_color)\n",
    "    return np.array(img_pil)"
   ]
  },
  {
   "cell_type": "code",
   "execution_count": 11,
   "metadata": {},
   "outputs": [],
   "source": [
    "# 한글\n",
    "\n",
    "img = np.zeros((480,640,3), dtype = np.uint8)\n",
    "\n",
    "\n",
    "# cv2.putText(img, \"나도 한글\", (20,50), cv2.FONT_HERSHEY_SIMPLEX, scale, color, thickness)\n",
    "# 그릴 위치, 쓸 텍스트 내용, 시작위치좌표, 글꼴종류, 크기, 색상,두께)\n",
    "\n",
    "font_size = 30\n",
    "color = (255,255,255)\n",
    "img = myPutText(img, \"나도코딩\", (20,50), font_size, color)\n",
    "\n",
    "cv2.imshow('img',img)\n",
    "cv2.waitKey(0)\n",
    "cv2.destroyAllWindows()"
   ]
  }
 ],
 "metadata": {
  "kernelspec": {
   "display_name": "PythonEx",
   "language": "python",
   "name": "python3"
  },
  "language_info": {
   "codemirror_mode": {
    "name": "ipython",
    "version": 3
   },
   "file_extension": ".py",
   "mimetype": "text/x-python",
   "name": "python",
   "nbconvert_exporter": "python",
   "pygments_lexer": "ipython3",
   "version": "3.10.14"
  }
 },
 "nbformat": 4,
 "nbformat_minor": 2
}
