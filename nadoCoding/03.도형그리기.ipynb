{
 "cells": [
  {
   "cell_type": "code",
   "execution_count": 1,
   "metadata": {},
   "outputs": [],
   "source": [
    "# 도형그리기 \n",
    "\n",
    "import cv2 \n",
    "import numpy as np"
   ]
  },
  {
   "cell_type": "code",
   "execution_count": 2,
   "metadata": {},
   "outputs": [
    {
     "name": "stdout",
     "output_type": "stream",
     "text": [
      "[[[255 200   0]\n",
      "  [255 200   0]\n",
      "  [255 200   0]\n",
      "  ...\n",
      "  [255 200   0]\n",
      "  [255 200   0]\n",
      "  [255 200   0]]\n",
      "\n",
      " [[255 200   0]\n",
      "  [255 200   0]\n",
      "  [255 200   0]\n",
      "  ...\n",
      "  [255 200   0]\n",
      "  [255 200   0]\n",
      "  [255 200   0]]\n",
      "\n",
      " [[255 200   0]\n",
      "  [255 200   0]\n",
      "  [255 200   0]\n",
      "  ...\n",
      "  [255 200   0]\n",
      "  [255 200   0]\n",
      "  [255 200   0]]\n",
      "\n",
      " ...\n",
      "\n",
      " [[255 200   0]\n",
      "  [255 200   0]\n",
      "  [255 200   0]\n",
      "  ...\n",
      "  [255 200   0]\n",
      "  [255 200   0]\n",
      "  [255 200   0]]\n",
      "\n",
      " [[255 200   0]\n",
      "  [255 200   0]\n",
      "  [255 200   0]\n",
      "  ...\n",
      "  [255 200   0]\n",
      "  [255 200   0]\n",
      "  [255 200   0]]\n",
      "\n",
      " [[255 200   0]\n",
      "  [255 200   0]\n",
      "  [255 200   0]\n",
      "  ...\n",
      "  [255 200   0]\n",
      "  [255 200   0]\n",
      "  [255 200   0]]]\n"
     ]
    }
   ],
   "source": [
    "# 빈 스케치북 만들기 \n",
    "# 세로 480 * 가로 640, 3channel(rgb)에 해당하는 스케치북 만들기\n",
    "\n",
    "img = np.zeros((480,640,3), dtype = np.uint8)\n",
    "img[:] = (255,200,0)  #전체 공간을 흰색으로 채우기\n",
    "print(img)\n",
    "\n",
    "#opencv에서는 bgr임 순서를 잘 기억하자\n",
    "\n",
    "cv2.imshow('img',img)\n",
    "cv2.waitKey(0)\n",
    "\n",
    "cv2.destroyAllWindows()"
   ]
  },
  {
   "cell_type": "code",
   "execution_count": 3,
   "metadata": {},
   "outputs": [
    {
     "name": "stdout",
     "output_type": "stream",
     "text": [
      "[[255 255 255 ... 255 255 255]\n",
      " [255 255 255 ... 255 255 255]\n",
      " [255 255 255 ... 255 255 255]\n",
      " ...\n",
      " [255 255 255 ... 255 255 255]\n",
      " [255 255 255 ... 255 255 255]\n",
      " [255 255 255 ... 255 255 255]]\n"
     ]
    }
   ],
   "source": [
    "# grayscale\n",
    "\n",
    "img = np.zeros((480,640), dtype = np.uint8)\n",
    "\n",
    "#0~255\n",
    "img[:] = 255  #전체 공간을 흰색으로 채우기\n",
    "# img[100:200,100:200] = 50  #일부 공간을 흰색으로 채우기\n",
    "print(img)\n",
    "\n",
    "\n",
    "cv2.imshow('img',img)\n",
    "cv2.waitKey(0)\n",
    "\n",
    "cv2.destroyAllWindows()"
   ]
  },
  {
   "cell_type": "code",
   "execution_count": 4,
   "metadata": {},
   "outputs": [],
   "source": [
    "# 일부영역 색칠하기 \n",
    "\n",
    "img = np.zeros((480,640,3), dtype = np.uint8)\n",
    "img[100:200,100:200] = (255,0,0)\n",
    "# img[세로,가로]\n",
    "\n",
    "cv2.imshow('img',img)\n",
    "cv2.waitKey(0)\n",
    "\n",
    "cv2.destroyAllWindows()"
   ]
  },
  {
   "cell_type": "code",
   "execution_count": 5,
   "metadata": {},
   "outputs": [],
   "source": [
    "# 도형그리기(직선)\n",
    "# 직선의 종류 \n",
    "# 1. cv2.LINE_4 : 상하좌우 4방향으로 연결된 선\n",
    "# 2. cv2.LINE_8 : 대각선을 포함한 8방향으로 연결된 선(기본값)\n",
    "# 3. cv2.LINE_AA : 부드러운 선"
   ]
  },
  {
   "cell_type": "code",
   "execution_count": 8,
   "metadata": {},
   "outputs": [],
   "source": [
    "img = np.zeros((480,640,3), dtype = np.uint8)\n",
    "\n",
    "# 색이나 굵기 먼저 설정하기\n",
    "color = (0,255,255) #bgr   YELLOW\n",
    "thickness = 3   #두께\n",
    "\n",
    "\n",
    "# cv2.line(어디에 그릴지, (x,y 어디부터), (x,y 어디까지))\n",
    "cv2.line(img, (50,100), (400,50), color, thickness, cv2.LINE_8)\n",
    "cv2.line(img, (50,200), (400,150), color, thickness, cv2.LINE_4)\n",
    "cv2.line(img, (50,300), (400,250), color, thickness, cv2.LINE_AA)\n",
    "\n",
    "cv2.imshow('img', img)\n",
    "cv2.waitKey(0)\n",
    "cv2.destroyAllWindows()"
   ]
  },
  {
   "cell_type": "code",
   "execution_count": 12,
   "metadata": {},
   "outputs": [],
   "source": [
    "# 원 그리기 \n",
    "\n",
    "img = np.zeros((480,640,3), dtype = np.uint8)\n",
    "\n",
    "# 색이나 굵기 먼저 설정하기\n",
    "color = (255,255,0) #bgr   옥색\n",
    "radius = 50     # 반지름\n",
    "thickness = 3   #두께\n",
    "\n",
    "cv2.circle(img, (200,100), radius, color, thickness, cv2.LINE_AA) # 속이 빈 원\n",
    "cv2.circle(img, (400,100), radius, color, cv2.FILLED, cv2.LINE_AA) # 꽉 찬 원\n",
    "cv2.circle(img, (550,100), radius, color, -1, cv2.LINE_AA) # 꽉 찬 원\n",
    "# 그릴 위치, 원의 중심점, 반지름, 색깔, 두께, 선의종류\n",
    "\n",
    "cv2.imshow('img', img)\n",
    "cv2.waitKey(0)\n",
    "cv2.destroyAllWindows()"
   ]
  },
  {
   "cell_type": "code",
   "execution_count": 14,
   "metadata": {},
   "outputs": [],
   "source": [
    "# 사각형\n",
    "\n",
    "img = np.zeros((480,640,3), dtype = np.uint8)\n",
    "\n",
    "# 색이나 굵기 먼저 설정하기\n",
    "color = (0,255,0) #bgr  초록색\n",
    "thickness = 3   #두께\n",
    "\n",
    "cv2.rectangle(img, (100,100),(200,200),color,thickness,cv2.LINE_AA)\n",
    "cv2.rectangle(img, (100,100),(200,200),color,-1,cv2.LINE_AA)\n",
    "# 그릴 위치, 왼쪽 위 좌표, 오른쪽 아래좌표, 색깔, 두께, 선의 종류\n",
    "\n",
    "cv2.imshow('img', img)\n",
    "cv2.waitKey(0)\n",
    "cv2.destroyAllWindows()"
   ]
  },
  {
   "cell_type": "code",
   "execution_count": 22,
   "metadata": {},
   "outputs": [],
   "source": [
    "# 다각형 \n",
    "\n",
    "img = np.zeros((480,640,3), dtype = np.uint8)\n",
    "\n",
    "# 색이나 굵기 먼저 설정하기\n",
    "color = (0,0,255) #bgr  빨간색\n",
    "thickness = 3   #두께\n",
    "\n",
    "pts1 = np.array([[100,100],[200,100],[100,200]]) # 삼각형\n",
    "pts2 = np.array([[200,100],[300,100],[300,200]])\n",
    "\n",
    "# cv2.polylines(img,[pts1],True, color,thickness,cv2.LINE_AA)\n",
    "# cv2.polylines(img,[pts2],True, color,thickness,cv2.LINE_AA)\n",
    "# cv2.polylines(img,[pts1,pts2],True, color,thickness,cv2.LINE_AA)\n",
    "\n",
    "# 그릴 위치, 좌표변수, isClosed 여부,  색깔, 두께, 선의 종류\n",
    "\n",
    "pts3 = np.array([[[100,100],[200,100],[100,200]],[[200,100],[300,100],[300,200]]])\n",
    "cv2.fillPoly(img,pts3,color,cv2.LINE_AA)\n",
    "# 그릴 위치, 좌표변수, 색, 선 종류\n",
    "\n",
    "\n",
    "cv2.imshow('img', img)\n",
    "cv2.waitKey(0)\n",
    "cv2.destroyAllWindows()"
   ]
  }
 ],
 "metadata": {
  "kernelspec": {
   "display_name": "PythonEx",
   "language": "python",
   "name": "python3"
  },
  "language_info": {
   "codemirror_mode": {
    "name": "ipython",
    "version": 3
   },
   "file_extension": ".py",
   "mimetype": "text/x-python",
   "name": "python",
   "nbconvert_exporter": "python",
   "pygments_lexer": "ipython3",
   "version": "3.10.14"
  }
 },
 "nbformat": 4,
 "nbformat_minor": 2
}
