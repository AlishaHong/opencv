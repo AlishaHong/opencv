{
 "cells": [
  {
   "cell_type": "code",
   "execution_count": 2,
   "metadata": {},
   "outputs": [],
   "source": [
    "import cv2"
   ]
  },
  {
   "cell_type": "code",
   "execution_count": 3,
   "metadata": {},
   "outputs": [],
   "source": [
    "img = cv2.imread('data/cat.jpg')\n",
    "# cv2.imshow('img',img)"
   ]
  },
  {
   "cell_type": "code",
   "execution_count": 4,
   "metadata": {},
   "outputs": [],
   "source": [
    "if img is None:\n",
    "    print(\"이미지를 로드할 수 없습니다. 경로를 확인하세요.\")\n",
    "else:\n",
    "    cv2.imshow('img', img)\n",
    "    cv2.waitKey(0)\n",
    "    cv2.destroyAllWindows()\n",
    "    \n"
   ]
  },
  {
   "cell_type": "code",
   "execution_count": 5,
   "metadata": {},
   "outputs": [],
   "source": [
    "# 색 표현 \n",
    "\n",
    "# cv2.imread_color : 컬러이미지, 투명부분은 무시(기본값)\n",
    "# cv2.imread_grayscale : 흑백이미지\n",
    "# cv2.imread_unchanged : 투명영역까지 포함"
   ]
  },
  {
   "cell_type": "code",
   "execution_count": 6,
   "metadata": {},
   "outputs": [],
   "source": [
    "img_color = cv2.imread('data/cat.jpg', cv2.IMREAD_COLOR)\n",
    "\n",
    "if img is None:\n",
    "    print(\"이미지를 로드할 수 없습니다. 경로를 확인하세요.\")\n",
    "else:\n",
    "    cv2.imshow('img', img_color)\n",
    "    cv2.waitKey(0)\n",
    "    cv2.destroyAllWindows()"
   ]
  }
 ],
 "metadata": {
  "kernelspec": {
   "display_name": "PythonEx",
   "language": "python",
   "name": "python3"
  },
  "language_info": {
   "codemirror_mode": {
    "name": "ipython",
    "version": 3
   },
   "file_extension": ".py",
   "mimetype": "text/x-python",
   "name": "python",
   "nbconvert_exporter": "python",
   "pygments_lexer": "ipython3",
   "version": "3.10.14"
  }
 },
 "nbformat": 4,
 "nbformat_minor": 2
}
